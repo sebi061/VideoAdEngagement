{
  "nbformat": 4,
  "nbformat_minor": 0,
  "metadata": {
    "colab": {
      "provenance": [],
      "machine_shape": "hm",
      "gpuType": "T4",
      "authorship_tag": "ABX9TyPLzovwNiGgrpFmWzgRAV4+",
      "include_colab_link": true
    },
    "kernelspec": {
      "name": "python3",
      "display_name": "Python 3"
    },
    "language_info": {
      "name": "python"
    },
    "accelerator": "GPU"
  },
  "cells": [
    {
      "cell_type": "markdown",
      "metadata": {
        "id": "view-in-github",
        "colab_type": "text"
      },
      "source": [
        "<a href=\"https://colab.research.google.com/github/sebi061/VideoAdEngagement/blob/main/2_Training_feature%20extraction%20models/1_1_Intent_recognition_model_training.ipynb\" target=\"_parent\"><img src=\"https://colab.research.google.com/assets/colab-badge.svg\" alt=\"Open In Colab\"/></a>"
      ]
    },
    {
      "cell_type": "code",
      "source": [
        "### Installations ###\n",
        "#####################\n",
        "\n",
        "!pip install git+https://github.com/openai/CLIP.git"
      ],
      "metadata": {
        "colab": {
          "base_uri": "https://localhost:8080/"
        },
        "id": "veoN52t1KsMU",
        "outputId": "f1ccfb5e-ec9b-472d-af24-cdfdf84e5a74"
      },
      "execution_count": null,
      "outputs": [
        {
          "output_type": "stream",
          "name": "stdout",
          "text": [
            "Collecting git+https://github.com/openai/CLIP.git\n",
            "  Cloning https://github.com/openai/CLIP.git to /tmp/pip-req-build-v0bpm8oj\n",
            "  Running command git clone --filter=blob:none --quiet https://github.com/openai/CLIP.git /tmp/pip-req-build-v0bpm8oj\n",
            "  Resolved https://github.com/openai/CLIP.git to commit a9b1bf5920416aaeaec965c25dd9e8f98c864f16\n",
            "  Preparing metadata (setup.py) ... \u001b[?25l\u001b[?25hdone\n",
            "Collecting ftfy (from clip==1.0)\n",
            "  Downloading ftfy-6.1.1-py3-none-any.whl (53 kB)\n",
            "\u001b[2K     \u001b[90m━━━━━━━━━━━━━━━━━━━━━━━━━━━━━━━━━━━━━━━━\u001b[0m \u001b[32m53.1/53.1 kB\u001b[0m \u001b[31m4.3 MB/s\u001b[0m eta \u001b[36m0:00:00\u001b[0m\n",
            "\u001b[?25hRequirement already satisfied: regex in /usr/local/lib/python3.10/dist-packages (from clip==1.0) (2022.10.31)\n",
            "Requirement already satisfied: tqdm in /usr/local/lib/python3.10/dist-packages (from clip==1.0) (4.65.0)\n",
            "Requirement already satisfied: torch in /usr/local/lib/python3.10/dist-packages (from clip==1.0) (2.0.1+cu118)\n",
            "Requirement already satisfied: torchvision in /usr/local/lib/python3.10/dist-packages (from clip==1.0) (0.15.2+cu118)\n",
            "Requirement already satisfied: wcwidth>=0.2.5 in /usr/local/lib/python3.10/dist-packages (from ftfy->clip==1.0) (0.2.6)\n",
            "Requirement already satisfied: filelock in /usr/local/lib/python3.10/dist-packages (from torch->clip==1.0) (3.12.2)\n",
            "Requirement already satisfied: typing-extensions in /usr/local/lib/python3.10/dist-packages (from torch->clip==1.0) (4.6.3)\n",
            "Requirement already satisfied: sympy in /usr/local/lib/python3.10/dist-packages (from torch->clip==1.0) (1.11.1)\n",
            "Requirement already satisfied: networkx in /usr/local/lib/python3.10/dist-packages (from torch->clip==1.0) (3.1)\n",
            "Requirement already satisfied: jinja2 in /usr/local/lib/python3.10/dist-packages (from torch->clip==1.0) (3.1.2)\n",
            "Requirement already satisfied: triton==2.0.0 in /usr/local/lib/python3.10/dist-packages (from torch->clip==1.0) (2.0.0)\n",
            "Requirement already satisfied: cmake in /usr/local/lib/python3.10/dist-packages (from triton==2.0.0->torch->clip==1.0) (3.25.2)\n",
            "Requirement already satisfied: lit in /usr/local/lib/python3.10/dist-packages (from triton==2.0.0->torch->clip==1.0) (16.0.6)\n",
            "Requirement already satisfied: numpy in /usr/local/lib/python3.10/dist-packages (from torchvision->clip==1.0) (1.22.4)\n",
            "Requirement already satisfied: requests in /usr/local/lib/python3.10/dist-packages (from torchvision->clip==1.0) (2.27.1)\n",
            "Requirement already satisfied: pillow!=8.3.*,>=5.3.0 in /usr/local/lib/python3.10/dist-packages (from torchvision->clip==1.0) (8.4.0)\n",
            "Requirement already satisfied: MarkupSafe>=2.0 in /usr/local/lib/python3.10/dist-packages (from jinja2->torch->clip==1.0) (2.1.3)\n",
            "Requirement already satisfied: urllib3<1.27,>=1.21.1 in /usr/local/lib/python3.10/dist-packages (from requests->torchvision->clip==1.0) (1.26.16)\n",
            "Requirement already satisfied: certifi>=2017.4.17 in /usr/local/lib/python3.10/dist-packages (from requests->torchvision->clip==1.0) (2023.5.7)\n",
            "Requirement already satisfied: charset-normalizer~=2.0.0 in /usr/local/lib/python3.10/dist-packages (from requests->torchvision->clip==1.0) (2.0.12)\n",
            "Requirement already satisfied: idna<4,>=2.5 in /usr/local/lib/python3.10/dist-packages (from requests->torchvision->clip==1.0) (3.4)\n",
            "Requirement already satisfied: mpmath>=0.19 in /usr/local/lib/python3.10/dist-packages (from sympy->torch->clip==1.0) (1.3.0)\n",
            "Building wheels for collected packages: clip\n",
            "  Building wheel for clip (setup.py) ... \u001b[?25l\u001b[?25hdone\n",
            "  Created wheel for clip: filename=clip-1.0-py3-none-any.whl size=1369370 sha256=460ef674c9f5672444590bf3604247ff29db4fbfd898ea159140d31319f4a85a\n",
            "  Stored in directory: /tmp/pip-ephem-wheel-cache-4micrqxr/wheels/da/2b/4c/d6691fa9597aac8bb85d2ac13b112deb897d5b50f5ad9a37e4\n",
            "Successfully built clip\n",
            "Installing collected packages: ftfy, clip\n",
            "Successfully installed clip-1.0 ftfy-6.1.1\n"
          ]
        }
      ]
    },
    {
      "cell_type": "code",
      "execution_count": null,
      "metadata": {
        "id": "z0MMj_r9GhtH"
      },
      "outputs": [],
      "source": [
        "### Imports ###\n",
        "###############\n",
        "\n",
        "# general\n",
        "import numpy as np\n",
        "import pandas as pd\n",
        "import json\n",
        "import os\n",
        "import shutil\n",
        "import statistics as stat\n",
        "\n",
        "# image processing\n",
        "from PIL import Image\n",
        "\n",
        "# clip model\n",
        "import clip\n",
        "\n",
        "# optimization and dataloading\n",
        "import torch\n",
        "import torch.nn as nn\n",
        "import torch.nn.functional as F\n",
        "import torch.optim as optim\n",
        "from torch.utils.data import Dataset\n",
        "from torch.utils.data import DataLoader\n",
        "import torchvision.transforms as transforms"
      ]
    },
    {
      "cell_type": "code",
      "source": [
        "### Set data directory\n",
        "##################\n",
        "\n",
        "# connect to drive\n",
        "from google.colab import drive\n",
        "drive.mount('/content/drive')\n",
        "\n",
        "# set data directory\n",
        "data_dir = '/content/drive/MyDrive/VideoAdEngagement/2_Training_feature extraction models/Data'\n",
        "save_dir = '/content/drive/MyDrive/VideoAdEngagement/2_Training_feature extraction models/trained_models'"
      ],
      "metadata": {
        "colab": {
          "base_uri": "https://localhost:8080/"
        },
        "id": "b0PVEGmfGrU4",
        "outputId": "8d5af2f0-84d6-4b04-9b2e-af8f6cec9f1b"
      },
      "execution_count": null,
      "outputs": [
        {
          "output_type": "stream",
          "name": "stdout",
          "text": [
            "Mounted at /content/drive\n"
          ]
        }
      ]
    },
    {
      "cell_type": "code",
      "source": [
        "### Import Train Data ###\n",
        "#########################\n",
        "\n",
        "# csv\n",
        "data_path_train = os.path.join(data_dir, 'Intentonomy_train_subset.csv')\n",
        "df_train = pd.read_csv(data_path_train)\n",
        "\n",
        "data_path_test = os.path.join(data_dir, 'Intentonomy_test.csv')\n",
        "df_test = pd.read_csv(data_path_test)"
      ],
      "metadata": {
        "id": "3z-2u-3gG3An"
      },
      "execution_count": null,
      "outputs": []
    },
    {
      "cell_type": "code",
      "source": [
        "# check dataframe\n",
        "df_train['category'].value_counts()"
      ],
      "metadata": {
        "colab": {
          "base_uri": "https://localhost:8080/"
        },
        "id": "oELktNl6sTw0",
        "outputId": "19874223-e916-4f21-e113-1d89af21a779"
      },
      "execution_count": null,
      "outputs": [
        {
          "output_type": "execute_result",
          "data": {
            "text/plain": [
              "familiy                               100\n",
              "financial and occupational success    100\n",
              "health                                100\n",
              "openness to experience                100\n",
              "power                                 100\n",
              "security and belonging                100\n",
              "self-fulfill                          100\n",
              "virtue                                 99\n",
              "ambition and ability                   98\n",
              "Name: category, dtype: int64"
            ]
          },
          "metadata": {},
          "execution_count": 6
        }
      ]
    },
    {
      "cell_type": "code",
      "source": [
        "#df_test['category'].value_counts()"
      ],
      "metadata": {
        "id": "4d1RPkxFsjj6"
      },
      "execution_count": null,
      "outputs": []
    },
    {
      "cell_type": "code",
      "source": [
        "# load images\n",
        "shutil.copy(os.path.join(data_dir, 'Intentonomy_train.zip'), './')\n",
        "shutil.copy(os.path.join(data_dir, 'Intentonomy_test.zip'), './')\n",
        "\n",
        "os.makedirs('Intentonomy_train')\n",
        "os.makedirs('Intentonomy_test')\n",
        "\n",
        "shutil.unpack_archive('./Intentonomy_train.zip', extract_dir = './Intentonomy_train')\n",
        "shutil.unpack_archive('./Intentonomy_test.zip', extract_dir = './Intentonomy_test')"
      ],
      "metadata": {
        "id": "0OG0uHwFh3bp"
      },
      "execution_count": null,
      "outputs": []
    },
    {
      "cell_type": "code",
      "source": [
        "### Load and instantiate model ###\n",
        "##################################\n",
        "\n",
        "# set device\n",
        "device = \"cuda:0\" if torch.cuda.is_available() else \"cpu\""
      ],
      "metadata": {
        "id": "Bv1Y7zpAMRgX"
      },
      "execution_count": null,
      "outputs": []
    },
    {
      "cell_type": "code",
      "source": [
        "# Load model\n",
        "model, preprocess = clip.load(\"ViT-B/32\",device=device,jit=False) # set jit=False for training"
      ],
      "metadata": {
        "id": "r1MI2w8EMc-T"
      },
      "execution_count": null,
      "outputs": []
    },
    {
      "cell_type": "code",
      "source": [
        "#https://github.com/openai/CLIP/issues/57\n",
        "def convert_models_to_fp32(model):\n",
        "    for p in model.parameters():\n",
        "        p.data = p.data.float()\n",
        "        p.grad.data = p.grad.data.float()"
      ],
      "metadata": {
        "id": "ETYvx5e5MhB2"
      },
      "execution_count": null,
      "outputs": []
    },
    {
      "cell_type": "code",
      "source": [
        "### Create Custome Dataset ###\n",
        "##############################\n",
        "\n",
        "class IntentonomyDataset(Dataset):\n",
        "  def __init__(self, df, img_dir, transform=None):\n",
        "    self.img_dir = img_dir\n",
        "    self.file_name = df['image_id'].values\n",
        "    self.label = df['category']\n",
        "    self.transform = transform\n",
        "\n",
        "  def __getitem__(self, index):\n",
        "    img = preprocess(Image.open(os.path.join(self.img_dir,\n",
        "                                  self.file_name[index] + '.jpeg')))\n",
        "\n",
        "    if self.transform is not None:\n",
        "      img = self.transform(img)\n",
        "\n",
        "    label = self.label[index]\n",
        "\n",
        "    return img, label\n",
        "\n",
        "  def __len__(self):\n",
        "    return self.file_name.shape[0]"
      ],
      "metadata": {
        "id": "78RbuAmM58va"
      },
      "execution_count": null,
      "outputs": []
    },
    {
      "cell_type": "code",
      "source": [
        "### Dataset and Dataloader ###\n",
        "##############################\n",
        "\n",
        "BATCH_SIZE = 25\n",
        "\n",
        "\n",
        "train_dataset = IntentonomyDataset(df = df_train,\n",
        "                                   img_dir = './Intentonomy_train')\n",
        "\n",
        "test_dataset = IntentonomyDataset(df = df_test,\n",
        "                                   img_dir = './Intentonomy_test')\n",
        "\n",
        "\n",
        "train_loader = DataLoader(dataset=train_dataset,\n",
        "                          batch_size=BATCH_SIZE,\n",
        "                          shuffle=True,\n",
        "                          num_workers=2)\n",
        "\n",
        "\n",
        "test_loader = DataLoader(dataset=test_dataset,\n",
        "                          batch_size=BATCH_SIZE,\n",
        "                          shuffle=True,\n",
        "                          num_workers=2)"
      ],
      "metadata": {
        "id": "qQVLRuaNNNPK"
      },
      "execution_count": null,
      "outputs": []
    },
    {
      "cell_type": "code",
      "source": [
        "### Loss and optimizer ###\n",
        "##########################\n",
        "\n",
        "# Clip loss\n",
        "loss_img = nn.CrossEntropyLoss()\n",
        "loss_txt = nn.CrossEntropyLoss()\n",
        "\n",
        "def clip_loss(img, txt):\n",
        "  logits_per_image, logits_per_text = model(img, txt)\n",
        "\n",
        "  ground_truth = torch.arange(len(img),dtype=torch.long,device=device)\n",
        "\n",
        "  total_loss = (loss_img(logits_per_image, ground_truth) + loss_txt(logits_per_text, ground_truth))/2\n",
        "\n",
        "  return total_loss"
      ],
      "metadata": {
        "id": "bHnuykYo7ba3"
      },
      "execution_count": null,
      "outputs": []
    },
    {
      "cell_type": "code",
      "source": [
        "# optimizer\n",
        "optimizer = optim.Adam(model.parameters(), lr=5e-6,betas=(0.9,0.98),eps=1e-6,weight_decay=0.3) #Params used from paper, the lr is smaller, more safe for fine tuning to new dataset"
      ],
      "metadata": {
        "id": "WK6TzlMtOS8R"
      },
      "execution_count": null,
      "outputs": []
    },
    {
      "cell_type": "code",
      "source": [
        "### Labels ###\n",
        "##############\n",
        "\n",
        "labels_list = ['virtue','self-fulfill', 'openness to experience', 'security and belonging',\n",
        "          'power', 'health', 'familiy', 'ambition and ability', 'financial and occupational success']\n",
        "\n",
        "# labels dicts\n",
        "id2label = dict(enumerate(labels_list))\n",
        "label2id = {label: id for id, label in id2label.items()}\n",
        "\n",
        "print(id2label)\n",
        "print(label2id)"
      ],
      "metadata": {
        "colab": {
          "base_uri": "https://localhost:8080/"
        },
        "id": "QjFrxTscskMH",
        "outputId": "02b9af52-f927-41eb-80f4-dd607ac94141"
      },
      "execution_count": null,
      "outputs": [
        {
          "output_type": "stream",
          "name": "stdout",
          "text": [
            "{0: 'virtue', 1: 'self-fulfill', 2: 'openness to experience', 3: 'security and belonging', 4: 'power', 5: 'health', 6: 'familiy', 7: 'ambition and ability', 8: 'financial and occupational success'}\n",
            "{'virtue': 0, 'self-fulfill': 1, 'openness to experience': 2, 'security and belonging': 3, 'power': 4, 'health': 5, 'familiy': 6, 'ambition and ability': 7, 'financial and occupational success': 8}\n"
          ]
        }
      ]
    },
    {
      "cell_type": "code",
      "source": [
        "### Training loop ###\n",
        "#####################\n",
        "\n",
        "EPOCH = 4\n",
        "torch.manual_seed(12)\n",
        "\n",
        "for epoch in range(EPOCH):\n",
        "\n",
        "  for batch in train_loader :\n",
        "\n",
        "      optimizer.zero_grad()\n",
        "\n",
        "      images, label = batch\n",
        "\n",
        "      images = images.to(device)\n",
        "\n",
        "      label_tok = clip.tokenize([f\"The picture represents {l}\" for l in label])\n",
        "      texts = label_tok.to(device)\n",
        "\n",
        "      loss = clip_loss(images, texts)\n",
        "\n",
        "      loss.backward()\n",
        "\n",
        "      if device == \"cpu\":\n",
        "          optimizer.step()\n",
        "      else :\n",
        "         convert_models_to_fp32(model)\n",
        "         optimizer.step()\n",
        "         clip.model.convert_weights(model)\n",
        "\n",
        "\n",
        "  ### Logging###\n",
        "  ##############\n",
        "\n",
        "\n",
        "  print(f\"Epoch: {epoch + 1}, loss: {loss}\")"
      ],
      "metadata": {
        "colab": {
          "base_uri": "https://localhost:8080/"
        },
        "id": "QENgqkEfOl9v",
        "outputId": "94838eab-e735-4b4e-a7e7-0862c1fadff3"
      },
      "execution_count": null,
      "outputs": [
        {
          "output_type": "stream",
          "name": "stdout",
          "text": [
            "Epoch: 1, loss: 2.900390625\n",
            "Epoch: 2, loss: 2.5078125\n",
            "Epoch: 3, loss: 2.45703125\n",
            "Epoch: 4, loss: 1.6982421875\n"
          ]
        }
      ]
    },
    {
      "cell_type": "code",
      "source": [
        "### Validation Train Set ###\n",
        "############################\n",
        "labels_list_tok = clip.tokenize([f\"The picture represents {l}\" for l in labels_list]).to(device)\n",
        "\n",
        "d = train_dataset\n",
        "def validation():\n",
        "\n",
        "  acc = []\n",
        "\n",
        "  for i in range(int(len(d))):\n",
        "\n",
        "    test_img = d[i][0]\n",
        "    label = d[i][1]\n",
        "    img = test_img.unsqueeze(0).to(device)\n",
        "\n",
        "\n",
        "    with torch.no_grad():\n",
        "            p , _ = model(img, labels_list_tok)\n",
        "            p = p.softmax(dim=-1)\n",
        "            assigned_label = p.argmax()\n",
        "\n",
        "\n",
        "\n",
        "    acc.append(id2label[int(assigned_label)] == label)\n",
        "\n",
        "  acc = np.sum(acc) / (len(d))\n",
        "\n",
        "  return(acc)\n",
        "\n",
        "val_acc = validation()\n",
        "\n",
        "print(f\"Validation accuracy: {val_acc}\")"
      ],
      "metadata": {
        "colab": {
          "base_uri": "https://localhost:8080/"
        },
        "id": "2n71vsuQUaYx",
        "outputId": "c95a4a09-554d-4ee2-bff6-c138036533a5"
      },
      "execution_count": null,
      "outputs": [
        {
          "output_type": "stream",
          "name": "stdout",
          "text": [
            "Validation accuracy: 0.9520624303232998\n"
          ]
        }
      ]
    },
    {
      "cell_type": "code",
      "source": [
        "### Validation ###\n",
        "##################\n",
        "labels_list_tok = clip.tokenize([f\"The picture represents {l}\" for l in labels_list]).to(device)\n",
        "\n",
        "d = test_dataset\n",
        "def validation():\n",
        "\n",
        "  acc = []\n",
        "\n",
        "  for i in range(int(len(d))):\n",
        "\n",
        "    test_img = d[i][0]\n",
        "    label = d[i][1]\n",
        "    img = test_img.unsqueeze(0).to(device)\n",
        "\n",
        "\n",
        "    with torch.no_grad():\n",
        "            p , _ = model(img, labels_list_tok)\n",
        "            p = p.softmax(dim=-1)\n",
        "\n",
        "    # since multiple labels are assigned (overlapping in meaning) by different annotators in Intentonomy data collection process:\n",
        "    # - > check overlap of of 3 predicted labels with highest probability and assigned labels to measure accuracy\n",
        "    l1 = [id2label[int(i)] for i in p.argsort()[0][-3:]]\n",
        "    l2 = d[i][1].strip(\"][\").replace(\"'\", \"\").split(\", \")\n",
        "\n",
        "    acc.append(not set(l1).isdisjoint(l2))\n",
        "\n",
        "  acc = np.sum(acc) / (len(d))\n",
        "\n",
        "  return(acc)\n",
        "\n",
        "val_acc = validation()\n",
        "\n",
        "print(f\"Validation accuracy: {val_acc}\")"
      ],
      "metadata": {
        "colab": {
          "base_uri": "https://localhost:8080/"
        },
        "id": "0HMf887DSLRJ",
        "outputId": "95c45c72-d03e-4dce-d2d7-b0515f72a7a5"
      },
      "execution_count": null,
      "outputs": [
        {
          "output_type": "stream",
          "name": "stdout",
          "text": [
            "Validation accuracy: 0.8333333333333334\n"
          ]
        }
      ]
    },
    {
      "cell_type": "code",
      "source": [
        "### Save model ###\n",
        "##################\n",
        "\n",
        "torch.save({\n",
        "        'model_state_dict': model.state_dict(),\n",
        "        'optimizer_state_dict': optimizer.state_dict(),\n",
        "        }, os.path.join(save_dir, 'best_intentonomy_model.pt'))"
      ],
      "metadata": {
        "id": "2h36MtTQQxDr"
      },
      "execution_count": null,
      "outputs": []
    }
  ]
}