{
  "cells": [
    {
      "cell_type": "markdown",
      "metadata": {
        "id": "view-in-github",
        "colab_type": "text"
      },
      "source": [
        "<a href=\"https://colab.research.google.com/github/sebi061/VideoAdEngagement/blob/main/1_Extracted_Data/4_High_level_features.ipynb\" target=\"_parent\"><img src=\"https://colab.research.google.com/assets/colab-badge.svg\" alt=\"Open In Colab\"/></a>"
      ]
    },
    {
      "cell_type": "code",
      "execution_count": null,
      "metadata": {
        "id": "aIHIw4PkOcxe"
      },
      "outputs": [],
      "source": [
        "### Imports general ###\n",
        "#######################\n",
        "\n",
        "import numpy as np\n",
        "import pandas as pd\n",
        "import cv2\n",
        "import torch\n",
        "import shutil\n",
        "import os\n",
        "from tqdm import tqdm"
      ]
    },
    {
      "cell_type": "code",
      "execution_count": null,
      "metadata": {
        "colab": {
          "base_uri": "https://localhost:8080/"
        },
        "id": "Z2i4fBJ_OzhL",
        "outputId": "73a0355d-8b40-4ff1-9654-c61f09dd472a"
      },
      "outputs": [
        {
          "output_type": "stream",
          "name": "stdout",
          "text": [
            "Mounted at /content/drive\n"
          ]
        }
      ],
      "source": [
        "### Set data directory\n",
        "##################\n",
        "\n",
        "# connect to drive\n",
        "from google.colab import drive\n",
        "drive.mount('/content/drive')\n",
        "\n",
        "# set data directory\n",
        "data_dir_video = '/content/drive/MyDrive/VideoAdEngagement/0_Downloaded_Data/1_Raw_Video_Data'\n",
        "data_dir_audio = '/content/drive/MyDrive/VideoAdEngagement/0_Downloaded_Data/2_Raw_Audio_Data'\n",
        "save_dir =       '/content/drive/MyDrive/VideoAdEngagement/1_Extracted_Data/Extracted_Features'\n",
        "model_dir =      '/content/drive/MyDrive/VideoAdEngagement/2_Training_feature extraction models'"
      ]
    },
    {
      "cell_type": "code",
      "execution_count": null,
      "metadata": {
        "id": "WwboJijrO3cI"
      },
      "outputs": [],
      "source": [
        "### Upload video and audio files ###\n",
        "####################################\n",
        "\n",
        "data_file = 'ferrari'\n",
        "\n",
        "# copy zip files\n",
        "shutil.copy(os.path.join(data_dir, f'Video_{data_file}.zip'), './')\n",
        "shutil.copy(os.path.join(data_dir, f'Audio_{data_file}.zip'), './')\n",
        "\n",
        "# create folders to unpack zip files to\n",
        "os.makedirs('./Video')\n",
        "os.makedirs('./Audio')\n",
        "\n",
        "# unpack zip files\n",
        "shutil.unpack_archive(f'./Video_{data_file}.zip', extract_dir = './Video')\n",
        "shutil.unpack_archive(f'./Audio_{data_file}.zip', extract_dir = './Audio')"
      ]
    },
    {
      "cell_type": "markdown",
      "metadata": {
        "id": "qdkkfghsPBsV"
      },
      "source": [
        "### Intent detection"
      ]
    },
    {
      "cell_type": "code",
      "execution_count": null,
      "metadata": {
        "colab": {
          "base_uri": "https://localhost:8080/"
        },
        "id": "fJL0_pJrPaVe",
        "outputId": "98d16901-23d8-4d08-cdbc-951ead0fe7cd"
      },
      "outputs": [
        {
          "output_type": "stream",
          "name": "stdout",
          "text": [
            "Collecting git+https://github.com/openai/CLIP.git\n",
            "  Cloning https://github.com/openai/CLIP.git to /tmp/pip-req-build-0_s7ql30\n",
            "  Running command git clone --filter=blob:none --quiet https://github.com/openai/CLIP.git /tmp/pip-req-build-0_s7ql30\n",
            "  Resolved https://github.com/openai/CLIP.git to commit a1d071733d7111c9c014f024669f959182114e33\n",
            "  Preparing metadata (setup.py) ... \u001b[?25l\u001b[?25hdone\n",
            "Collecting ftfy (from clip==1.0)\n",
            "  Downloading ftfy-6.1.1-py3-none-any.whl (53 kB)\n",
            "\u001b[2K     \u001b[90m━━━━━━━━━━━━━━━━━━━━━━━━━━━━━━━━━━━━━━━━\u001b[0m \u001b[32m53.1/53.1 kB\u001b[0m \u001b[31m1.8 MB/s\u001b[0m eta \u001b[36m0:00:00\u001b[0m\n",
            "\u001b[?25hRequirement already satisfied: regex in /usr/local/lib/python3.10/dist-packages (from clip==1.0) (2022.10.31)\n",
            "Requirement already satisfied: tqdm in /usr/local/lib/python3.10/dist-packages (from clip==1.0) (4.65.0)\n",
            "Requirement already satisfied: torch in /usr/local/lib/python3.10/dist-packages (from clip==1.0) (2.0.1+cu118)\n",
            "Requirement already satisfied: torchvision in /usr/local/lib/python3.10/dist-packages (from clip==1.0) (0.15.2+cu118)\n",
            "Requirement already satisfied: wcwidth>=0.2.5 in /usr/local/lib/python3.10/dist-packages (from ftfy->clip==1.0) (0.2.6)\n",
            "Requirement already satisfied: filelock in /usr/local/lib/python3.10/dist-packages (from torch->clip==1.0) (3.12.2)\n",
            "Requirement already satisfied: typing-extensions in /usr/local/lib/python3.10/dist-packages (from torch->clip==1.0) (4.7.1)\n",
            "Requirement already satisfied: sympy in /usr/local/lib/python3.10/dist-packages (from torch->clip==1.0) (1.11.1)\n",
            "Requirement already satisfied: networkx in /usr/local/lib/python3.10/dist-packages (from torch->clip==1.0) (3.1)\n",
            "Requirement already satisfied: jinja2 in /usr/local/lib/python3.10/dist-packages (from torch->clip==1.0) (3.1.2)\n",
            "Requirement already satisfied: triton==2.0.0 in /usr/local/lib/python3.10/dist-packages (from torch->clip==1.0) (2.0.0)\n",
            "Requirement already satisfied: cmake in /usr/local/lib/python3.10/dist-packages (from triton==2.0.0->torch->clip==1.0) (3.25.2)\n",
            "Requirement already satisfied: lit in /usr/local/lib/python3.10/dist-packages (from triton==2.0.0->torch->clip==1.0) (16.0.6)\n",
            "Requirement already satisfied: numpy in /usr/local/lib/python3.10/dist-packages (from torchvision->clip==1.0) (1.22.4)\n",
            "Requirement already satisfied: requests in /usr/local/lib/python3.10/dist-packages (from torchvision->clip==1.0) (2.27.1)\n",
            "Requirement already satisfied: pillow!=8.3.*,>=5.3.0 in /usr/local/lib/python3.10/dist-packages (from torchvision->clip==1.0) (8.4.0)\n",
            "Requirement already satisfied: MarkupSafe>=2.0 in /usr/local/lib/python3.10/dist-packages (from jinja2->torch->clip==1.0) (2.1.3)\n",
            "Requirement already satisfied: urllib3<1.27,>=1.21.1 in /usr/local/lib/python3.10/dist-packages (from requests->torchvision->clip==1.0) (1.26.16)\n",
            "Requirement already satisfied: certifi>=2017.4.17 in /usr/local/lib/python3.10/dist-packages (from requests->torchvision->clip==1.0) (2023.5.7)\n",
            "Requirement already satisfied: charset-normalizer~=2.0.0 in /usr/local/lib/python3.10/dist-packages (from requests->torchvision->clip==1.0) (2.0.12)\n",
            "Requirement already satisfied: idna<4,>=2.5 in /usr/local/lib/python3.10/dist-packages (from requests->torchvision->clip==1.0) (3.4)\n",
            "Requirement already satisfied: mpmath>=0.19 in /usr/local/lib/python3.10/dist-packages (from sympy->torch->clip==1.0) (1.3.0)\n",
            "Building wheels for collected packages: clip\n",
            "  Building wheel for clip (setup.py) ... \u001b[?25l\u001b[?25hdone\n",
            "  Created wheel for clip: filename=clip-1.0-py3-none-any.whl size=1369501 sha256=173408078595bd9c9c3bd816be6badc4e9775ed28da36cebd5b11df3332a9a63\n",
            "  Stored in directory: /tmp/pip-ephem-wheel-cache-m3o_sn3n/wheels/da/2b/4c/d6691fa9597aac8bb85d2ac13b112deb897d5b50f5ad9a37e4\n",
            "Successfully built clip\n",
            "Installing collected packages: ftfy, clip\n",
            "Successfully installed clip-1.0 ftfy-6.1.1\n"
          ]
        }
      ],
      "source": [
        "### Installations intetn detection ###\n",
        "######################################\n",
        "\n",
        "!pip install git+https://github.com/openai/CLIP.git"
      ]
    },
    {
      "cell_type": "code",
      "execution_count": null,
      "metadata": {
        "id": "Fu2eyLKUPNB8"
      },
      "outputs": [],
      "source": [
        "### Imports for intetn detection ###\n",
        "####################################\n",
        "\n",
        "from PIL import Image\n",
        "import torch\n",
        "import clip"
      ]
    },
    {
      "cell_type": "code",
      "execution_count": null,
      "metadata": {
        "colab": {
          "base_uri": "https://localhost:8080/"
        },
        "id": "PW1jeXAGPZdQ",
        "outputId": "aaeb5eb3-5a24-4b07-afbb-e361f221747b"
      },
      "outputs": [
        {
          "output_type": "stream",
          "name": "stderr",
          "text": [
            "100%|████████████████████████████████████████| 338M/338M [00:02<00:00, 150MiB/s]\n"
          ]
        }
      ],
      "source": [
        "### Load Model ###\n",
        "##################\n",
        "\n",
        "# set device\n",
        "device = \"cuda:0\" if torch.cuda.is_available() else \"cpu\"\n",
        "\n",
        "# load model and prepocessor\n",
        "intent_model, intent_preprocess = clip.load(\"ViT-B/32\",device=device)\n",
        "\n",
        "# load pre-trained model\n",
        "checkpoint = torch.load( os.path.join(model_dir, 'best_intentonomy_model.pt'))\n",
        "intent_model.load_state_dict(checkpoint['model_state_dict'])\n",
        "\n",
        "# classes\n",
        "labels_intent = ['virtue','self-fulfill', 'openness to experience', 'security and belonging',\n",
        "          'power', 'health', 'familiy', 'ambition and ability', 'financial and occupational success']\n",
        "\n",
        "# tokenize class labels\n",
        "labels_intent_tok = clip.tokenize([f\"The picture represents {l}\" for l in labels_intent]).to(device)"
      ]
    },
    {
      "cell_type": "code",
      "execution_count": null,
      "metadata": {
        "id": "VFgZHiyxRO23"
      },
      "outputs": [],
      "source": [
        "### Function to apply intent detection to individal frames of the video ###\n",
        "###########################################################################\n",
        "\n",
        "def intent_detection(video_file):\n",
        "\n",
        "   # initialize video capturing object\n",
        "    cap = cv2.VideoCapture(video_file)\n",
        "\n",
        "    # extract fps to set interval between frames to be contidered\n",
        "    fps = int(cap.get(cv2.CAP_PROP_FPS))\n",
        "\n",
        "    # frame interval -> every n = 2 second, a frame is considered in prediction\n",
        "    frame_interval = 2 * fps\n",
        "\n",
        "    # initialize counter and emotion list object\n",
        "    counter = 0\n",
        "    intent_list = []\n",
        "\n",
        "    # loop though video\n",
        "    while True:\n",
        "      ret, frame = cap.read()\n",
        "\n",
        "      counter+=1\n",
        "\n",
        "      if not ret:\n",
        "        break\n",
        "\n",
        "      if counter % frame_interval != 0:\n",
        "        continue\n",
        "\n",
        "\n",
        "      # feature extraction\n",
        "      img = cv2.cvtColor(frame, cv2.COLOR_BGR2RGB)\n",
        "      img_pre_process = intent_preprocess(Image.fromarray(img)).unsqueeze(0).to(device)\n",
        "\n",
        "      # prediction\n",
        "      with torch.no_grad():\n",
        "            logits , _ = intent_model(img_pre_process, labels_intent_tok)\n",
        "            p = logits.softmax(dim=-1)\n",
        "\n",
        "      intent_list.append(p[0].tolist())\n",
        "\n",
        "\n",
        "\n",
        "    # Release the video capture object and close the windows\n",
        "    cap.release()\n",
        "    cv2.destroyAllWindows()\n",
        "\n",
        "    return list(np.array(intent_list).mean(0))"
      ]
    },
    {
      "cell_type": "code",
      "execution_count": null,
      "metadata": {
        "colab": {
          "base_uri": "https://localhost:8080/"
        },
        "id": "DddReYcLRkgY",
        "outputId": "98f1d2f4-a8c7-421d-ce69-be2e8c114676"
      },
      "outputs": [
        {
          "output_type": "stream",
          "name": "stderr",
          "text": [
            "100%|██████████| 182/182 [05:17<00:00,  1.75s/it]\n"
          ]
        }
      ],
      "source": [
        "### Apply to all videos ###\n",
        "###########################\n",
        "\n",
        "video_id = []\n",
        "intent_video_list = []\n",
        "\n",
        "for video_file in tqdm(os.listdir('./Video')):\n",
        "\n",
        "  video_id.append(video_file[:-4])\n",
        "  intent_video_list.append(intent_detection(os.path.join('./Video', video_file)))"
      ]
    },
    {
      "cell_type": "code",
      "execution_count": null,
      "metadata": {
        "id": "fsx8x4vhRrgs"
      },
      "outputs": [],
      "source": [
        "### Create final dataframe for intent detection ###\n",
        "###################################################\n",
        "\n",
        "intent_df = pd.DataFrame(intent_video_list, columns=  [f\"p_intent_{l}\" for l in labels_intent])\n",
        "intent_df['video_id'] = video_id"
      ]
    },
    {
      "cell_type": "markdown",
      "metadata": {
        "id": "QksIkYkvTTx_"
      },
      "source": [
        "### Memorability classification"
      ]
    },
    {
      "cell_type": "code",
      "execution_count": null,
      "metadata": {
        "colab": {
          "base_uri": "https://localhost:8080/"
        },
        "id": "HoxlShlaTdPW",
        "outputId": "d07ad60b-da07-4403-cfa8-dadb57c2556f"
      },
      "outputs": [
        {
          "output_type": "stream",
          "name": "stdout",
          "text": [
            "\u001b[33mWARNING: Skipping transformers as it is not installed.\u001b[0m\u001b[33m\n",
            "\u001b[0mCollecting transformers==4.28.0\n",
            "  Downloading transformers-4.28.0-py3-none-any.whl (7.0 MB)\n",
            "\u001b[2K     \u001b[90m━━━━━━━━━━━━━━━━━━━━━━━━━━━━━━━━━━━━━━━━\u001b[0m \u001b[32m7.0/7.0 MB\u001b[0m \u001b[31m18.0 MB/s\u001b[0m eta \u001b[36m0:00:00\u001b[0m\n",
            "\u001b[?25hRequirement already satisfied: filelock in /usr/local/lib/python3.10/dist-packages (from transformers==4.28.0) (3.12.2)\n",
            "Collecting huggingface-hub<1.0,>=0.11.0 (from transformers==4.28.0)\n",
            "  Downloading huggingface_hub-0.16.4-py3-none-any.whl (268 kB)\n",
            "\u001b[2K     \u001b[90m━━━━━━━━━━━━━━━━━━━━━━━━━━━━━━━━━━━━━━\u001b[0m \u001b[32m268.8/268.8 kB\u001b[0m \u001b[31m30.6 MB/s\u001b[0m eta \u001b[36m0:00:00\u001b[0m\n",
            "\u001b[?25hRequirement already satisfied: numpy>=1.17 in /usr/local/lib/python3.10/dist-packages (from transformers==4.28.0) (1.22.4)\n",
            "Requirement already satisfied: packaging>=20.0 in /usr/local/lib/python3.10/dist-packages (from transformers==4.28.0) (23.1)\n",
            "Requirement already satisfied: pyyaml>=5.1 in /usr/local/lib/python3.10/dist-packages (from transformers==4.28.0) (6.0)\n",
            "Requirement already satisfied: regex!=2019.12.17 in /usr/local/lib/python3.10/dist-packages (from transformers==4.28.0) (2022.10.31)\n",
            "Requirement already satisfied: requests in /usr/local/lib/python3.10/dist-packages (from transformers==4.28.0) (2.27.1)\n",
            "Collecting tokenizers!=0.11.3,<0.14,>=0.11.1 (from transformers==4.28.0)\n",
            "  Downloading tokenizers-0.13.3-cp310-cp310-manylinux_2_17_x86_64.manylinux2014_x86_64.whl (7.8 MB)\n",
            "\u001b[2K     \u001b[90m━━━━━━━━━━━━━━━━━━━━━━━━━━━━━━━━━━━━━━━━\u001b[0m \u001b[32m7.8/7.8 MB\u001b[0m \u001b[31m56.0 MB/s\u001b[0m eta \u001b[36m0:00:00\u001b[0m\n",
            "\u001b[?25hRequirement already satisfied: tqdm>=4.27 in /usr/local/lib/python3.10/dist-packages (from transformers==4.28.0) (4.65.0)\n",
            "Requirement already satisfied: fsspec in /usr/local/lib/python3.10/dist-packages (from huggingface-hub<1.0,>=0.11.0->transformers==4.28.0) (2023.6.0)\n",
            "Requirement already satisfied: typing-extensions>=3.7.4.3 in /usr/local/lib/python3.10/dist-packages (from huggingface-hub<1.0,>=0.11.0->transformers==4.28.0) (4.7.1)\n",
            "Requirement already satisfied: urllib3<1.27,>=1.21.1 in /usr/local/lib/python3.10/dist-packages (from requests->transformers==4.28.0) (1.26.16)\n",
            "Requirement already satisfied: certifi>=2017.4.17 in /usr/local/lib/python3.10/dist-packages (from requests->transformers==4.28.0) (2023.5.7)\n",
            "Requirement already satisfied: charset-normalizer~=2.0.0 in /usr/local/lib/python3.10/dist-packages (from requests->transformers==4.28.0) (2.0.12)\n",
            "Requirement already satisfied: idna<4,>=2.5 in /usr/local/lib/python3.10/dist-packages (from requests->transformers==4.28.0) (3.4)\n",
            "Installing collected packages: tokenizers, huggingface-hub, transformers\n",
            "Successfully installed huggingface-hub-0.16.4 tokenizers-0.13.3 transformers-4.28.0\n"
          ]
        }
      ],
      "source": [
        "### Installations memorability classification ###\n",
        "#################################################\n",
        "\n",
        "!pip uninstall -y transformers\n",
        "!pip install transformers==4.28.0"
      ]
    },
    {
      "cell_type": "code",
      "execution_count": null,
      "metadata": {
        "id": "b7BbhoKLTmrH"
      },
      "outputs": [],
      "source": [
        "### Imports memorability classification ###\n",
        "###########################################\n",
        "\n",
        "from transformers import ViTForImageClassification, ViTFeatureExtractor"
      ]
    },
    {
      "cell_type": "code",
      "execution_count": null,
      "metadata": {
        "colab": {
          "base_uri": "https://localhost:8080/"
        },
        "id": "170VLKZ3UHDh",
        "outputId": "6710a3d8-a5e8-48b4-ccab-bfa933cec49a"
      },
      "outputs": [
        {
          "output_type": "stream",
          "name": "stderr",
          "text": [
            "/usr/local/lib/python3.10/dist-packages/transformers/models/vit/feature_extraction_vit.py:28: FutureWarning: The class ViTFeatureExtractor is deprecated and will be removed in version 5 of Transformers. Please use ViTImageProcessor instead.\n",
            "  warnings.warn(\n"
          ]
        }
      ],
      "source": [
        "### Load model ###\n",
        "##################\n",
        "\n",
        "# feature extractor\n",
        "mem_feature_extractor = ViTFeatureExtractor.from_pretrained(os.path.join(model_dir, 'best_memorability_model'))\n",
        "\n",
        "# classes\n",
        "labels_mem = ['high_mem', 'low_mem', 'medium_mem']\n",
        "\n",
        "# model\n",
        "mem_model = ViTForImageClassification.from_pretrained(\n",
        "    os.path.join(model_dir, 'best_memorability_model'),\n",
        "    num_labels=len(labels_mem),\n",
        "    id2label={str(i): c for i, c in enumerate(labels_mem)},\n",
        "    label2id={c: str(i) for i, c in enumerate(labels_mem)}\n",
        ")"
      ]
    },
    {
      "cell_type": "code",
      "execution_count": null,
      "metadata": {
        "id": "BXPcCIe6U7aC"
      },
      "outputs": [],
      "source": [
        "### Function to apply memorability classification to individal frames of the video ###\n",
        "######################################################################################\n",
        "\n",
        "def mem_detection(video_file):\n",
        "\n",
        "   # initialize video capturing object\n",
        "    cap = cv2.VideoCapture(video_file)\n",
        "\n",
        "    # extract fps to set interval between frames to be contidered\n",
        "    fps = int(cap.get(cv2.CAP_PROP_FPS))\n",
        "\n",
        "    # frame interval -> every n = 2 second, a frame is considered in prediction\n",
        "    frame_interval = 2 * fps\n",
        "\n",
        "    # initialize counter and emotion list object\n",
        "    counter = 0\n",
        "    mem_list = []\n",
        "\n",
        "    # loop though video\n",
        "    while True:\n",
        "      ret, frame = cap.read()\n",
        "\n",
        "      counter+=1\n",
        "\n",
        "      if not ret:\n",
        "        break\n",
        "\n",
        "      if counter % frame_interval != 0:\n",
        "        continue\n",
        "\n",
        "\n",
        "      # feature extraction\n",
        "      inp = mem_feature_extractor(frame[:,:,::-1], return_tensors='pt')\n",
        "\n",
        "      # prediction\n",
        "      with torch.no_grad():\n",
        "        logits = mem_model(inp['pixel_values'])['logits']\n",
        "\n",
        "      mem_list.append(logits.softmax(dim = -1)[0].tolist())\n",
        "\n",
        "\n",
        "\n",
        "    # Release the video capture object and close the windows\n",
        "    cap.release()\n",
        "    cv2.destroyAllWindows()\n",
        "\n",
        "    return (np.array(mem_list).mean(0) @ np.array([2,0,1])) / 3"
      ]
    },
    {
      "cell_type": "code",
      "execution_count": null,
      "metadata": {
        "id": "x4BmY_4SVIny",
        "colab": {
          "base_uri": "https://localhost:8080/"
        },
        "outputId": "84b1467c-f56d-437f-8d2c-c593f4eaf7c8"
      },
      "outputs": [
        {
          "output_type": "stream",
          "name": "stderr",
          "text": [
            "100%|██████████| 182/182 [19:40<00:00,  6.49s/it]\n"
          ]
        }
      ],
      "source": [
        "### Apply to all videos ###\n",
        "###########################\n",
        "\n",
        "video_id = []\n",
        "mem_video_list = []\n",
        "\n",
        "for video_file in tqdm(os.listdir('./Video')):\n",
        "\n",
        "  video_id.append(video_file[:-4])\n",
        "  mem_video_list.append(mem_detection(os.path.join('./Video', video_file)))"
      ]
    },
    {
      "cell_type": "code",
      "execution_count": null,
      "metadata": {
        "id": "W1e5m6mKVKP4"
      },
      "outputs": [],
      "source": [
        "### Create final dataframe for intent detection ###\n",
        "###################################################\n",
        "\n",
        "mem_df = pd.DataFrame({'mem_score' : mem_video_list})\n",
        "mem_df['video_id'] = video_id"
      ]
    },
    {
      "cell_type": "markdown",
      "metadata": {
        "id": "LHowgHuQYg-u"
      },
      "source": [
        "### Audio mood classification"
      ]
    },
    {
      "cell_type": "code",
      "execution_count": null,
      "metadata": {
        "id": "ftW_qDFVbkyB"
      },
      "outputs": [],
      "source": [
        "### Imports audio mood classification ###\n",
        "#########################################\n",
        "\n",
        "import librosa\n",
        "from transformers import AutoFeatureExtractor, AutoModelForAudioClassification"
      ]
    },
    {
      "cell_type": "code",
      "execution_count": null,
      "metadata": {
        "id": "CrWrOYhfbzqa"
      },
      "outputs": [],
      "source": [
        "### Load model ###\n",
        "##################\n",
        "\n",
        "# audio mood classes\n",
        "audio_mood_classes = ['Q1', 'Q2', 'Q3', 'Q4']\n",
        "\n",
        "# Load feature extractor\n",
        "sound_feature_extractor = AutoFeatureExtractor.from_pretrained(os.path.join(model_dir, 'best_audio_mood_model'))\n",
        "\n",
        "# Load model\n",
        "sound_model = AutoModelForAudioClassification.from_pretrained(os.path.join(model_dir, 'best_audio_mood_model'))"
      ]
    },
    {
      "cell_type": "code",
      "execution_count": null,
      "metadata": {
        "id": "xQO8FExhdi1l"
      },
      "outputs": [],
      "source": [
        "### Function to apply audio mood detection to audio files ###\n",
        "#############################################################\n",
        "\n",
        "def audio_mood_detection(audio_file):\n",
        "\n",
        "  # load audio data\n",
        "  audio_data, sr = librosa.load(audio_file)\n",
        "\n",
        "  # resample to sampling rate the model was trained on\n",
        "  a_rs = librosa.resample(audio_data, orig_sr = sr, target_sr = 16000)\n",
        "\n",
        "  # split audio file into 10 parts of equal length\n",
        "  parts = np.linspace(0, len(a_rs), 10)\n",
        "\n",
        "  # loop to consider each part individually\n",
        "  audio_list = []\n",
        "\n",
        "  for i in [0, 3, 5, 7]:\n",
        "\n",
        "    # apply Short-time Fourier Transform to respective part to get model input\n",
        "    inp = sound_feature_extractor(a_rs[int(parts[i]): int(parts[i+1])], sampling_rate=16000, return_tensors=\"pt\")\n",
        "\n",
        "    # extract class probabilities form output logits\n",
        "    with torch.no_grad():\n",
        "      class_probs = sound_model(**inp).logits.softmax(dim = -1)[0]\n",
        "\n",
        "    audio_list.append(class_probs.tolist())\n",
        "\n",
        "  # return mean class probabilites over all audio parts\n",
        "  return list(np.array(audio_list).mean(0))"
      ]
    },
    {
      "cell_type": "code",
      "execution_count": null,
      "metadata": {
        "id": "gMTtVT-Vd4rx",
        "colab": {
          "base_uri": "https://localhost:8080/"
        },
        "outputId": "c91bc885-9a52-4030-e935-dfaeed78df22"
      },
      "outputs": [
        {
          "output_type": "stream",
          "name": "stderr",
          "text": [
            "100%|██████████| 182/182 [33:47<00:00, 11.14s/it]\n"
          ]
        }
      ],
      "source": [
        "### Apply sound detection to all audio files ###\n",
        "################################################\n",
        "\n",
        "video_id = []\n",
        "audio_mood_video_list = []\n",
        "\n",
        "for audio_file in tqdm(os.listdir('./Audio')):\n",
        "\n",
        "  video_id.append(audio_file[:-4])\n",
        "  audio_mood_video_list.append(audio_mood_detection(os.path.join('./Audio', audio_file)))"
      ]
    },
    {
      "cell_type": "code",
      "execution_count": null,
      "metadata": {
        "id": "RbugEcXOeFOl"
      },
      "outputs": [],
      "source": [
        "### Create final dataframe for sound detection ###\n",
        "##################################################\n",
        "\n",
        "# create df\n",
        "audio_mood_df = pd.DataFrame(audio_mood_video_list)\n",
        "\n",
        "# create dict of col names\n",
        "audio_mood_name_dict = {i:f\"p_audio_mood_{c}\" for i,c in enumerate(audio_mood_classes)}\n",
        "\n",
        "# add names and video_id column\n",
        "audio_mood_df = audio_mood_df.rename(columns = audio_mood_name_dict)\n",
        "audio_mood_df['video_id'] = video_id"
      ]
    },
    {
      "cell_type": "code",
      "execution_count": null,
      "metadata": {
        "id": "4xKrfLUGkM_t"
      },
      "outputs": [],
      "source": [
        "### Merge all 3 dataframes into one ###\n",
        "#######################################\n",
        "\n",
        "# merge\n",
        "high_level_features = intent_df.merge(mem_df, on='video_id').merge(audio_mood_df, on='video_id')\n",
        "\n",
        "# move video_id column to beginning\n",
        "first_column = high_level_features.pop('video_id')\n",
        "high_level_features.insert(0, 'video_id', first_column)"
      ]
    },
    {
      "cell_type": "code",
      "execution_count": null,
      "metadata": {
        "id": "UqmmXUVJkmM8",
        "colab": {
          "base_uri": "https://localhost:8080/",
          "height": 35
        },
        "outputId": "b64779b9-6701-45c9-c7b8-f1471a09681b"
      },
      "outputs": [
        {
          "output_type": "execute_result",
          "data": {
            "text/plain": [
              "'/content/drive/MyDrive/0_Masterarbeit/2_Pipelines/Feature_outputs/high_level_features_ferrari.csv'"
            ],
            "application/vnd.google.colaboratory.intrinsic+json": {
              "type": "string"
            }
          },
          "metadata": {},
          "execution_count": 22
        }
      ],
      "source": [
        "### Save as csv file ###\n",
        "########################\n",
        "\n",
        "high_level_features.to_csv(f'./high_level_features_{data_file}.csv')\n",
        "shutil.copy(f'./high_level_features_{data_file}.csv', save_dir)"
      ]
    }
  ],
  "metadata": {
    "accelerator": "GPU",
    "colab": {
      "machine_shape": "hm",
      "provenance": [],
      "gpuType": "V100",
      "authorship_tag": "ABX9TyO3pIXrdptUhjMqlxsZnPs7",
      "include_colab_link": true
    },
    "kernelspec": {
      "display_name": "Python 3",
      "name": "python3"
    },
    "language_info": {
      "name": "python"
    }
  },
  "nbformat": 4,
  "nbformat_minor": 0
}