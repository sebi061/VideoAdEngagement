{
  "cells": [
    {
      "cell_type": "markdown",
      "metadata": {
        "id": "view-in-github",
        "colab_type": "text"
      },
      "source": [
        "<a href=\"https://colab.research.google.com/github/sebi061/VideoAdEngagement/blob/main/1_Extracted_Data/2_2_Mid_level_features_ObjectDetection.ipynb\" target=\"_parent\"><img src=\"https://colab.research.google.com/assets/colab-badge.svg\" alt=\"Open In Colab\"/></a>"
      ]
    },
    {
      "cell_type": "code",
      "execution_count": null,
      "metadata": {
        "colab": {
          "base_uri": "https://localhost:8080/"
        },
        "id": "CgVRfEokgsVK",
        "outputId": "b6825f14-144d-4658-dcf4-85c5808d2d7e"
      },
      "outputs": [
        {
          "output_type": "stream",
          "name": "stdout",
          "text": [
            "Collecting ultralytics\n",
            "  Downloading ultralytics-8.0.137-py3-none-any.whl (605 kB)\n",
            "\u001b[2K     \u001b[90m━━━━━━━━━━━━━━━━━━━━━━━━━━━━━━━━━━━━━━━\u001b[0m \u001b[32m605.5/605.5 kB\u001b[0m \u001b[31m4.7 MB/s\u001b[0m eta \u001b[36m0:00:00\u001b[0m\n",
            "\u001b[?25hRequirement already satisfied: matplotlib>=3.2.2 in /usr/local/lib/python3.10/dist-packages (from ultralytics) (3.7.1)\n",
            "Requirement already satisfied: opencv-python>=4.6.0 in /usr/local/lib/python3.10/dist-packages (from ultralytics) (4.7.0.72)\n",
            "Requirement already satisfied: Pillow>=7.1.2 in /usr/local/lib/python3.10/dist-packages (from ultralytics) (8.4.0)\n",
            "Requirement already satisfied: PyYAML>=5.3.1 in /usr/local/lib/python3.10/dist-packages (from ultralytics) (6.0)\n",
            "Requirement already satisfied: requests>=2.23.0 in /usr/local/lib/python3.10/dist-packages (from ultralytics) (2.27.1)\n",
            "Requirement already satisfied: scipy>=1.4.1 in /usr/local/lib/python3.10/dist-packages (from ultralytics) (1.10.1)\n",
            "Requirement already satisfied: torch>=1.7.0 in /usr/local/lib/python3.10/dist-packages (from ultralytics) (2.0.1+cu118)\n",
            "Requirement already satisfied: torchvision>=0.8.1 in /usr/local/lib/python3.10/dist-packages (from ultralytics) (0.15.2+cu118)\n",
            "Requirement already satisfied: tqdm>=4.64.0 in /usr/local/lib/python3.10/dist-packages (from ultralytics) (4.65.0)\n",
            "Requirement already satisfied: pandas>=1.1.4 in /usr/local/lib/python3.10/dist-packages (from ultralytics) (1.5.3)\n",
            "Requirement already satisfied: seaborn>=0.11.0 in /usr/local/lib/python3.10/dist-packages (from ultralytics) (0.12.2)\n",
            "Requirement already satisfied: psutil in /usr/local/lib/python3.10/dist-packages (from ultralytics) (5.9.5)\n",
            "Requirement already satisfied: contourpy>=1.0.1 in /usr/local/lib/python3.10/dist-packages (from matplotlib>=3.2.2->ultralytics) (1.1.0)\n",
            "Requirement already satisfied: cycler>=0.10 in /usr/local/lib/python3.10/dist-packages (from matplotlib>=3.2.2->ultralytics) (0.11.0)\n",
            "Requirement already satisfied: fonttools>=4.22.0 in /usr/local/lib/python3.10/dist-packages (from matplotlib>=3.2.2->ultralytics) (4.41.0)\n",
            "Requirement already satisfied: kiwisolver>=1.0.1 in /usr/local/lib/python3.10/dist-packages (from matplotlib>=3.2.2->ultralytics) (1.4.4)\n",
            "Requirement already satisfied: numpy>=1.20 in /usr/local/lib/python3.10/dist-packages (from matplotlib>=3.2.2->ultralytics) (1.22.4)\n",
            "Requirement already satisfied: packaging>=20.0 in /usr/local/lib/python3.10/dist-packages (from matplotlib>=3.2.2->ultralytics) (23.1)\n",
            "Requirement already satisfied: pyparsing>=2.3.1 in /usr/local/lib/python3.10/dist-packages (from matplotlib>=3.2.2->ultralytics) (3.1.0)\n",
            "Requirement already satisfied: python-dateutil>=2.7 in /usr/local/lib/python3.10/dist-packages (from matplotlib>=3.2.2->ultralytics) (2.8.2)\n",
            "Requirement already satisfied: pytz>=2020.1 in /usr/local/lib/python3.10/dist-packages (from pandas>=1.1.4->ultralytics) (2022.7.1)\n",
            "Requirement already satisfied: urllib3<1.27,>=1.21.1 in /usr/local/lib/python3.10/dist-packages (from requests>=2.23.0->ultralytics) (1.26.16)\n",
            "Requirement already satisfied: certifi>=2017.4.17 in /usr/local/lib/python3.10/dist-packages (from requests>=2.23.0->ultralytics) (2023.5.7)\n",
            "Requirement already satisfied: charset-normalizer~=2.0.0 in /usr/local/lib/python3.10/dist-packages (from requests>=2.23.0->ultralytics) (2.0.12)\n",
            "Requirement already satisfied: idna<4,>=2.5 in /usr/local/lib/python3.10/dist-packages (from requests>=2.23.0->ultralytics) (3.4)\n",
            "Requirement already satisfied: filelock in /usr/local/lib/python3.10/dist-packages (from torch>=1.7.0->ultralytics) (3.12.2)\n",
            "Requirement already satisfied: typing-extensions in /usr/local/lib/python3.10/dist-packages (from torch>=1.7.0->ultralytics) (4.7.1)\n",
            "Requirement already satisfied: sympy in /usr/local/lib/python3.10/dist-packages (from torch>=1.7.0->ultralytics) (1.11.1)\n",
            "Requirement already satisfied: networkx in /usr/local/lib/python3.10/dist-packages (from torch>=1.7.0->ultralytics) (3.1)\n",
            "Requirement already satisfied: jinja2 in /usr/local/lib/python3.10/dist-packages (from torch>=1.7.0->ultralytics) (3.1.2)\n",
            "Requirement already satisfied: triton==2.0.0 in /usr/local/lib/python3.10/dist-packages (from torch>=1.7.0->ultralytics) (2.0.0)\n",
            "Requirement already satisfied: cmake in /usr/local/lib/python3.10/dist-packages (from triton==2.0.0->torch>=1.7.0->ultralytics) (3.25.2)\n",
            "Requirement already satisfied: lit in /usr/local/lib/python3.10/dist-packages (from triton==2.0.0->torch>=1.7.0->ultralytics) (16.0.6)\n",
            "Requirement already satisfied: six>=1.5 in /usr/local/lib/python3.10/dist-packages (from python-dateutil>=2.7->matplotlib>=3.2.2->ultralytics) (1.16.0)\n",
            "Requirement already satisfied: MarkupSafe>=2.0 in /usr/local/lib/python3.10/dist-packages (from jinja2->torch>=1.7.0->ultralytics) (2.1.3)\n",
            "Requirement already satisfied: mpmath>=0.19 in /usr/local/lib/python3.10/dist-packages (from sympy->torch>=1.7.0->ultralytics) (1.3.0)\n",
            "Installing collected packages: ultralytics\n",
            "Successfully installed ultralytics-8.0.137\n"
          ]
        }
      ],
      "source": [
        "### Yolo model ###\n",
        "##################\n",
        "!pip install ultralytics"
      ]
    },
    {
      "cell_type": "code",
      "execution_count": null,
      "metadata": {
        "id": "3PEE5bD6ggoM"
      },
      "outputs": [],
      "source": [
        "### Imports ###\n",
        "###############\n",
        "\n",
        "import numpy as np\n",
        "import pandas as pd\n",
        "import cv2\n",
        "import shutil\n",
        "import os\n",
        "from tqdm import tqdm\n",
        "\n",
        "\n",
        "import torch\n",
        "from ultralytics import YOLO\n",
        "from PIL import Image"
      ]
    },
    {
      "cell_type": "code",
      "execution_count": null,
      "metadata": {
        "colab": {
          "base_uri": "https://localhost:8080/"
        },
        "id": "upwOQdnygvBs",
        "outputId": "1227ce6f-7161-4f11-945c-4032387a00b9"
      },
      "outputs": [
        {
          "output_type": "stream",
          "name": "stdout",
          "text": [
            "Mounted at /content/drive\n"
          ]
        }
      ],
      "source": [
        "### Set data directory\n",
        "##################\n",
        "\n",
        "# connect to drive\n",
        "from google.colab import drive\n",
        "drive.mount('/content/drive')\n",
        "\n",
        "# set data directory\n",
        "data_dir_video = '/content/drive/MyDrive/VideoAdEngagement/0_Downloaded_Data/1_Raw_Video_Data'\n",
        "data_dir_audio = '/content/drive/MyDrive/VideoAdEngagement/0_Downloaded_Data/2_Raw_Audio_Data'\n",
        "save_dir =       '/content/drive/MyDrive/VideoAdEngagement/1_Extracted_Data/Extracted_Features'"
      ]
    },
    {
      "cell_type": "code",
      "execution_count": null,
      "metadata": {
        "id": "65yE_QuHgxUl"
      },
      "outputs": [],
      "source": [
        "### Upload video and audio files ###\n",
        "####################################\n",
        "\n",
        "# choose brand\n",
        "data_file = 'ferrari'\n",
        "\n",
        "# copy zip files\n",
        "shutil.copy(os.path.join(data_dir, f'Video_{data_file}.zip'), './')\n",
        "shutil.copy(os.path.join(data_dir, f'Audio_{data_file}.zip'), './')\n",
        "\n",
        "# create folders to unpack zip files to\n",
        "os.makedirs('./Video')\n",
        "os.makedirs('./Audio')\n",
        "\n",
        "# unpack zip files\n",
        "shutil.unpack_archive(f'./Video_{data_file}.zip', extract_dir = './Video')\n",
        "shutil.unpack_archive(f'./Audio_{data_file}.zip', extract_dir = './Audio')"
      ]
    },
    {
      "cell_type": "code",
      "execution_count": null,
      "metadata": {
        "colab": {
          "base_uri": "https://localhost:8080/"
        },
        "id": "I5zAPttba_2o",
        "outputId": "8983beef-74c3-4308-cd89-921d86c7401b"
      },
      "outputs": [
        {
          "output_type": "stream",
          "name": "stderr",
          "text": [
            "Downloading https://github.com/ultralytics/assets/releases/download/v0.0.0/yolov8l.pt to yolov8l.pt...\n",
            "100%|██████████| 83.7M/83.7M [00:00<00:00, 371MB/s]\n"
          ]
        }
      ],
      "source": [
        "### Load model ###\n",
        "##################\n",
        "\n",
        "# model\n",
        "yolo_model = YOLO('yolov8l.pt')\n",
        "\n",
        "# coco classes\n",
        "classes = {0: 'person', 1: 'bicycle', 2: 'car', 3: 'motorcycle', 4: 'airplane', 5: 'bus',\n",
        "           6: 'train', 7: 'truck', 8: 'boat', 9: 'traffic light', 10: 'fire hydrant', 11: 'stop sign',\n",
        "           12: 'parking meter', 13: 'bench', 14: 'bird', 15: 'cat', 16: 'dog', 17: 'horse', 18: 'sheep',\n",
        "           19: 'cow', 20: 'elephant', 21: 'bear', 22: 'zebra', 23: 'giraffe', 24: 'backpack', 25: 'umbrella',\n",
        "           26: 'handbag', 27: 'tie', 28: 'suitcase', 29: 'frisbee', 30: 'skis', 31: 'snowboard', 32: 'sports ball',\n",
        "           33: 'kite', 34: 'baseball bat', 35: 'baseball glove', 36: 'skateboard', 37: 'surfboard',\n",
        "           38: 'tennis racket', 39: 'bottle', 40: 'wine glass', 41: 'cup', 42: 'fork', 43: 'knife',\n",
        "           44: 'spoon', 45: 'bowl', 46: 'banana', 47: 'apple', 48: 'sandwich', 49: 'orange', 50: 'broccoli',\n",
        "           51: 'carrot', 52: 'hot dog', 53: 'pizza', 54: 'donut', 55: 'cake', 56: 'chair', 57: 'couch',\n",
        "           58: 'potted plant', 59: 'bed', 60: 'dining table', 61: 'toilet', 62: 'tv', 63: 'laptop', 64: 'mouse',\n",
        "           65: 'remote', 66: 'keyboard', 67: 'cell phone', 68: 'microwave', 69: 'oven', 70: 'toaster', 71: 'sink',\n",
        "           72: 'refrigerator', 73: 'book', 74: 'clock', 75: 'vase', 76: 'scissors', 77: 'teddy bear',\n",
        "           78: 'hair drier', 79: 'toothbrush'}\n"
      ]
    },
    {
      "cell_type": "code",
      "execution_count": null,
      "metadata": {
        "id": "uX1D84p0Z8Ol"
      },
      "outputs": [],
      "source": [
        "### Function to apply object detection to individual videos ###\n",
        "###############################################################\n",
        "\n",
        "def object_detection(video_file):\n",
        "\n",
        "    # initialize video capturing object\n",
        "    cap = cv2.VideoCapture(video_file)\n",
        "\n",
        "    # extract fps to set interval between frames to be contidered\n",
        "    fps = int(cap.get(cv2.CAP_PROP_FPS))\n",
        "\n",
        "    # frame interval -> every n = 1 second, a frame is considered in prediction\n",
        "    frame_interval = 1 * fps\n",
        "\n",
        "    # initialize counter and dicts to store object probabilities and counts\n",
        "    counter = 0\n",
        "    obj_count_dict = {value:0 for _ , value in classes.items()}\n",
        "    pr_dict = {value:0 for _ , value in classes.items()}\n",
        "\n",
        "    # loop though video\n",
        "    while True:\n",
        "      ret, frame = cap.read()\n",
        "\n",
        "      counter+=1\n",
        "\n",
        "      if not ret:\n",
        "        break\n",
        "\n",
        "      if counter % frame_interval != 0:\n",
        "        continue\n",
        "\n",
        "      # crop faces from frames and apply emotion classification\n",
        "      img_rgb = cv2.cvtColor(frame, cv2.COLOR_BGR2RGB)\n",
        "      im_pil = Image.fromarray(img_rgb)\n",
        "      pr = yolo_model.predict(source = im_pil, conf = 0.5, save = False, verbose = None)\n",
        "      for i, j in zip(pr[0].boxes.cpu().numpy().cls, pr[0].boxes.cpu(). numpy().conf):\n",
        "        pr_dict[classes[i]] += j\n",
        "        obj_count_dict[classes[i]] += 1\n",
        "\n",
        "    # Release the video capture object and close the windows\n",
        "    cap.release()\n",
        "    cv2.destroyAllWindows()\n",
        "\n",
        "    # calculate mean probabilites individually for detected objects\n",
        "    result = np.array([a/b if b > 0 else a for a, b in zip([p for _, p in pr_dict.items()],[o for _, o in obj_count_dict.items()])])\n",
        "\n",
        "\n",
        "    # return normalized probabilitiy vector\n",
        "    if np.all(result == 0):\n",
        "      return list(result)\n",
        "    else:\n",
        "      return list(result / result.sum())\n"
      ]
    },
    {
      "cell_type": "code",
      "execution_count": null,
      "metadata": {
        "colab": {
          "base_uri": "https://localhost:8080/"
        },
        "id": "STYHu2qy_Xc1",
        "outputId": "9e3fa37f-481d-47f6-8cce-581867c7bcae"
      },
      "outputs": [
        {
          "output_type": "stream",
          "name": "stderr",
          "text": [
            "100%|██████████| 182/182 [07:37<00:00,  2.51s/it]\n"
          ]
        }
      ],
      "source": [
        "### Extract for each video ###\n",
        "##############################\n",
        "\n",
        "video_id = []\n",
        "object_probs = []\n",
        "for video_file in tqdm(os.listdir('./Video')):\n",
        "\n",
        "  video_id.append(video_file[:-4])\n",
        "  object_probs.append(object_detection(os.path.join('./Video', video_file)))"
      ]
    },
    {
      "cell_type": "code",
      "execution_count": null,
      "metadata": {
        "id": "Bp1FI1L5aEQY"
      },
      "outputs": [],
      "source": [
        "### Create final dataframe for action detection ###\n",
        "###################################################\n",
        "\n",
        "objects_df = pd.DataFrame(object_probs)\n",
        "objects_name_dict = {i:f\"p_object_{c}\" for i, (_, c) in enumerate(classes.items())}\n",
        "objects_df = objects_df.rename(columns = objects_name_dict)\n",
        "objects_df['video_id'] = video_id"
      ]
    },
    {
      "cell_type": "code",
      "execution_count": null,
      "metadata": {
        "id": "3jlUk691aENH",
        "colab": {
          "base_uri": "https://localhost:8080/",
          "height": 35
        },
        "outputId": "f5d401d6-001c-4384-aad0-85c96414ecc8"
      },
      "outputs": [
        {
          "output_type": "execute_result",
          "data": {
            "text/plain": [
              "'/content/drive/MyDrive/0_Masterarbeit/2_Pipelines/Feature_outputs/object_features_ferrari.csv'"
            ],
            "application/vnd.google.colaboratory.intrinsic+json": {
              "type": "string"
            }
          },
          "metadata": {},
          "execution_count": 9
        }
      ],
      "source": [
        "### Save as csv file ###\n",
        "########################\n",
        "\n",
        "objects_df.to_csv(f'./object_features_{data_file}.csv')\n",
        "shutil.copy(f'./object_features_{data_file}.csv', save_dir)"
      ]
    }
  ],
  "metadata": {
    "accelerator": "GPU",
    "colab": {
      "machine_shape": "hm",
      "provenance": [],
      "authorship_tag": "ABX9TyObdmDxlOAAd/q8xCw5JhrE",
      "include_colab_link": true
    },
    "kernelspec": {
      "display_name": "Python 3",
      "name": "python3"
    },
    "language_info": {
      "name": "python"
    }
  },
  "nbformat": 4,
  "nbformat_minor": 0
}